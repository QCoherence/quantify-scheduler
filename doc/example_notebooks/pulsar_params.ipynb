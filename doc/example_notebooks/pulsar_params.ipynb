{
 "cells": [
  {
   "cell_type": "code",
   "execution_count": 1,
   "metadata": {},
   "outputs": [
    {
     "data": {
      "text/plain": [
       "{'manufacturer': 'Qblox',\n",
       " 'device': 'Pulsar QCM',\n",
       " 'serial_number': '',\n",
       " 'build': {'firmware': {'version': '0.1.0',\n",
       "   'date': '04/08/2020-07:03:35',\n",
       "   'hash': '0xD12A1BA',\n",
       "   'dirty': False},\n",
       "  'kernel_mod': {'version': '0.1.0',\n",
       "   'date': '04/08/2020-12:27:50',\n",
       "   'hash': '0x1128E33B',\n",
       "   'dirty': True},\n",
       "  'software': {'version': '0.1.0',\n",
       "   'date': '04/08/2020-12:27:50',\n",
       "   'hash': '0x1128E33B',\n",
       "   'dirty': True}}}"
      ]
     },
     "execution_count": 1,
     "metadata": {},
     "output_type": "execute_result"
    }
   ],
   "source": [
    "from pulsar_qcm.pulsar_qcm import pulsar_qcm\n",
    "qcm = pulsar_qcm(\"qcm0\", \"192.168.0.3\", debug=1)\n",
    "qcm.get_idn()"
   ]
  },
  {
   "cell_type": "code",
   "execution_count": 2,
   "metadata": {},
   "outputs": [],
   "source": [
    "qcm.stop_sequencer()"
   ]
  },
  {
   "cell_type": "code",
   "execution_count": 3,
   "metadata": {},
   "outputs": [],
   "source": [
    "from quantify.sequencer.types import Schedule, Operation\n",
    "from quantify.sequencer.gate_library import Rxy\n",
    "from quantify.sequencer.pulse_library import SquarePulse\n",
    "from quantify.sequencer.backends.pulsar_backend import pulsar_assembler_backend\n",
    "from quantify.sequencer.compilation import add_pulse_information_transmon, determine_absolute_timing\n",
    "from quantify.sequencer.backends.pulsar_backend import PulsarModulations\n",
    "from quantify.sequencer.resources import QubitResource, CompositeResource, Pulsar_QCM_sequencer, Pulsar_QRM_sequencer"
   ]
  },
  {
   "cell_type": "code",
   "execution_count": 4,
   "metadata": {},
   "outputs": [],
   "source": [
    "DEVICE_TEST_CFG = {\n",
    "    \"qubits\":\n",
    "    {\n",
    "        \"q1\": {\"mw_amp180\": 0.6, \"mw_motzoi\": 0.25, \"mw_duration\": 20e-9,\n",
    "               \"mw_modulation_freq\": 200e6, \"mw_ef_amp180\": 0.87, \"mw_ch\": \"qcm0.s0\",\n",
    "               \"ro_ch\": \"qrm0.s0\", \"ro_pulse_amp\": 0.5, \"ro_pulse_modulation_freq\": 0,\n",
    "               \"ro_pulse_type\": \"square\", \"ro_pulse_duration\": 150e-9,\n",
    "               \"ro_acq_delay\": 120e-9, \"ro_acq_integration_time\": 2500e-9,\n",
    "               \"ro_acq_weigth_type\": \"SSB\",\n",
    "               \"init_duration\": 250e-6\n",
    "               }\n",
    "    },\n",
    "    \"edges\": {}\n",
    "}"
   ]
  },
  {
   "cell_type": "code",
   "execution_count": 5,
   "metadata": {},
   "outputs": [],
   "source": [
    "qcm.stop_sequencer()"
   ]
  },
  {
   "cell_type": "code",
   "execution_count": 6,
   "metadata": {},
   "outputs": [],
   "source": [
    "import numpy as np\n",
    "\n",
    "sched = Schedule('pulsar_params')\n",
    "q0 = QubitResource('q1')\n",
    "\n",
    "sched.add(Rxy(45, 0, q0.name))\n",
    "sched.add(Rxy(180, 0, q0.name))\n",
    "sched.add(Rxy(90, 0, q0.name))\n",
    "sched.add(Rxy(180, 90, q0.name))\n",
    "\n",
    "qcm0_s0 = Pulsar_QCM_sequencer('qcm0.s0', instrument_name='qcm0', seq_idx=0)\n",
    "sched.add_resources([q0, qcm0_s0])\n",
    "sched = add_pulse_information_transmon(sched, DEVICE_TEST_CFG)\n",
    "sched = determine_absolute_timing(sched)\n",
    "cfg = pulsar_assembler_backend(sched, configure_hardware=True, debug=True)"
   ]
  },
  {
   "cell_type": "code",
   "execution_count": 7,
   "metadata": {},
   "outputs": [],
   "source": [
    "qcm.arm_sequencer()\n",
    "qcm.start_sequencer()"
   ]
  },
  {
   "cell_type": "code",
   "execution_count": 8,
   "metadata": {},
   "outputs": [
    {
     "data": {
      "text/plain": [
       "'assembler finished successfully'"
      ]
     },
     "execution_count": 8,
     "metadata": {},
     "output_type": "execute_result"
    }
   ],
   "source": [
    "qcm.get_assembler_log()"
   ]
  },
  {
   "cell_type": "code",
   "execution_count": 9,
   "metadata": {},
   "outputs": [
    {
     "data": {
      "text/plain": [
       "{'status': 'RUNNING', 'flags': []}"
      ]
     },
     "execution_count": 9,
     "metadata": {},
     "output_type": "execute_result"
    }
   ],
   "source": [
    "qcm.get_sequencer_state(0)"
   ]
  },
  {
   "cell_type": "code",
   "execution_count": null,
   "metadata": {},
   "outputs": [],
   "source": []
  },
  {
   "cell_type": "code",
   "execution_count": null,
   "metadata": {},
   "outputs": [],
   "source": []
  }
 ],
 "metadata": {
  "kernelspec": {
   "display_name": "Python 3",
   "language": "python",
   "name": "python3"
  },
  "language_info": {
   "codemirror_mode": {
    "name": "ipython",
    "version": 3
   },
   "file_extension": ".py",
   "mimetype": "text/x-python",
   "name": "python",
   "nbconvert_exporter": "python",
   "pygments_lexer": "ipython3",
   "version": "3.8.0"
  }
 },
 "nbformat": 4,
 "nbformat_minor": 4
}
