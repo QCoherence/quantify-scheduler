{
 "cells": [
  {
   "cell_type": "code",
   "execution_count": 1,
   "metadata": {},
   "outputs": [],
   "source": [
    "import numpy as np\n",
    "from pprint import pprint\n",
    "import json"
   ]
  },
  {
   "cell_type": "markdown",
   "metadata": {},
   "source": [
    "# Goals\n",
    "\n",
    "Easy to define experiments at both the logical gate/pulse levels:\n",
    "- parameterisation, custom waveforms, etc.\n",
    "- timings, orderings\n",
    "\n",
    "Simple syntax, access to existing ecosystem\n",
    "\n",
    "Provide tooling for debugging, visualisation etc."
   ]
  },
  {
   "cell_type": "markdown",
   "metadata": {},
   "source": [
    "# Schedule\n",
    "Container type of Operations and Resources\n",
    "\n",
    "# Operation\n",
    "An action\n",
    "- gate\n",
    "- pulse\n",
    "\n",
    "# Resource\n",
    "A device to perform an Operation on or with\n",
    "- qubits\n",
    "- pulsars"
   ]
  },
  {
   "cell_type": "code",
   "execution_count": 2,
   "metadata": {},
   "outputs": [],
   "source": [
    "DEVICE_CFG = {\n",
    "    \"qubits\":\n",
    "    {\n",
    "        \"q0\": {\"mw_amp180\": 0.5, \"mw_motzoi\": -0.25, \"mw_duration\": 20e-9,\n",
    "               \"mw_modulation_freq\": 0, \"mw_ef_amp180\": 0.87, \"mw_ch\": \"qcm0.s0\",\n",
    "               \"ro_ch\": \"qrm0.s0\", \"ro_pulse_amp\": 0.5, \"ro_pulse_modulation_freq\": 0,\n",
    "               \"ro_pulse_type\": \"square\", \"ro_pulse_duration\": 150e-9,\n",
    "               \"ro_acq_delay\": 120e-9, \"ro_acq_integration_time\": 100e-9,\n",
    "               \"ro_acq_weigth_type\": \"SSB\",\n",
    "               \"init_duration\": 250e-6\n",
    "        },\n",
    "        \"q1\": {\"mw_amp180\": 0.45, \"mw_motzoi\": -0.15, \"mw_duration\": 20e-9,\n",
    "               \"mw_modulation_freq\": 0, \"mw_ef_amp180\": 0.27, \"mw_ch\": \"qcm1.s0\",\n",
    "               \"ro_ch\": \"qrm0.s1\", \"ro_pulse_amp\": 0.5, \"ro_pulse_modulation_freq\": 0,\n",
    "               \"ro_pulse_type\": \"square\", \"ro_pulse_duration\": 100e-9,\n",
    "               \"ro_acq_delay\": 120e-9, \"ro_acq_integration_time\": 100e-9,\n",
    "               \"ro_acq_weigth_type\": \"SSB\",\n",
    "               \"init_duration\": 250e-6\n",
    "        }\n",
    "    },\n",
    "    \"edges\":\n",
    "    {\n",
    "        \"q0-q1\": {\n",
    "            \"flux_duration\": 40e-9,\n",
    "            \"flux_ch_control\": \"qcm0.s1\", \"flux_ch_target\": \"qcm1.s1\",\n",
    "            \"flux_amp_control\": 0.5,  \"flux_amp_target\": 0,\n",
    "            \"phase_correction_control\": 0,\n",
    "            \"phase_correction_target\": 0}\n",
    "    }\n",
    "}"
   ]
  },
  {
   "cell_type": "code",
   "execution_count": 3,
   "metadata": {},
   "outputs": [
    {
     "ename": "ModuleNotFoundError",
     "evalue": "No module named 'quantify.sequencer'",
     "output_type": "error",
     "traceback": [
      "\u001b[0;31m---------------------------------------------------------------------------\u001b[0m",
      "\u001b[0;31mModuleNotFoundError\u001b[0m                       Traceback (most recent call last)",
      "\u001b[0;32m<ipython-input-3-ae2ff27ab6c4>\u001b[0m in \u001b[0;36m<module>\u001b[0;34m\u001b[0m\n\u001b[0;32m----> 1\u001b[0;31m \u001b[0;32mfrom\u001b[0m \u001b[0mquantify\u001b[0m\u001b[0;34m.\u001b[0m\u001b[0msequencer\u001b[0m\u001b[0;34m.\u001b[0m\u001b[0mtypes\u001b[0m \u001b[0;32mimport\u001b[0m \u001b[0mSchedule\u001b[0m\u001b[0;34m\u001b[0m\u001b[0;34m\u001b[0m\u001b[0m\n\u001b[0m\u001b[1;32m      2\u001b[0m \u001b[0;32mfrom\u001b[0m \u001b[0mquantify\u001b[0m\u001b[0;34m.\u001b[0m\u001b[0msequencer\u001b[0m\u001b[0;34m.\u001b[0m\u001b[0mgate_library\u001b[0m \u001b[0;32mimport\u001b[0m \u001b[0mX\u001b[0m\u001b[0;34m,\u001b[0m \u001b[0mX90\u001b[0m\u001b[0;34m,\u001b[0m \u001b[0mMeasure\u001b[0m\u001b[0;34m\u001b[0m\u001b[0;34m\u001b[0m\u001b[0m\n\u001b[1;32m      3\u001b[0m \u001b[0;32mfrom\u001b[0m \u001b[0mquantify\u001b[0m\u001b[0;34m.\u001b[0m\u001b[0msequencer\u001b[0m\u001b[0;34m.\u001b[0m\u001b[0mpulse_library\u001b[0m \u001b[0;32mimport\u001b[0m \u001b[0mSquarePulse\u001b[0m\u001b[0;34m\u001b[0m\u001b[0;34m\u001b[0m\u001b[0m\n\u001b[1;32m      4\u001b[0m \u001b[0;32mfrom\u001b[0m \u001b[0mquantify\u001b[0m\u001b[0;34m.\u001b[0m\u001b[0msequencer\u001b[0m\u001b[0;34m.\u001b[0m\u001b[0mbackends\u001b[0m\u001b[0;34m.\u001b[0m\u001b[0mpulsar_backend\u001b[0m \u001b[0;32mimport\u001b[0m \u001b[0mpulsar_assembler_backend\u001b[0m\u001b[0;34m\u001b[0m\u001b[0;34m\u001b[0m\u001b[0m\n\u001b[1;32m      5\u001b[0m \u001b[0;32mfrom\u001b[0m \u001b[0mquantify\u001b[0m\u001b[0;34m.\u001b[0m\u001b[0msequencer\u001b[0m\u001b[0;34m.\u001b[0m\u001b[0mresources\u001b[0m \u001b[0;32mimport\u001b[0m \u001b[0mQubitResource\u001b[0m\u001b[0;34m,\u001b[0m \u001b[0mPulsar_QCM_sequencer\u001b[0m\u001b[0;34m,\u001b[0m \u001b[0mPulsar_QRM_sequencer\u001b[0m\u001b[0;34m\u001b[0m\u001b[0;34m\u001b[0m\u001b[0m\n",
      "\u001b[0;31mModuleNotFoundError\u001b[0m: No module named 'quantify.sequencer'"
     ]
    }
   ],
   "source": [
    "from quantify.sequencer.types import Schedule\n",
    "from quantify.sequencer.gate_library import X, X90, Measure\n",
    "from quantify.sequencer.pulse_library import SquarePulse\n",
    "from quantify.sequencer.backends.pulsar_backend import pulsar_assembler_backend\n",
    "from quantify.sequencer.resources import QubitResource, Pulsar_QCM_sequencer, Pulsar_QRM_sequencer"
   ]
  },
  {
   "cell_type": "code",
   "execution_count": 4,
   "metadata": {},
   "outputs": [
    {
     "ename": "NameError",
     "evalue": "name 'Schedule' is not defined",
     "output_type": "error",
     "traceback": [
      "\u001b[0;31m---------------------------------------------------------------------------\u001b[0m",
      "\u001b[0;31mNameError\u001b[0m                                 Traceback (most recent call last)",
      "\u001b[0;32m<ipython-input-4-87857628e95a>\u001b[0m in \u001b[0;36m<module>\u001b[0;34m\u001b[0m\n\u001b[0;32m----> 1\u001b[0;31m \u001b[0msched\u001b[0m \u001b[0;34m=\u001b[0m \u001b[0mSchedule\u001b[0m\u001b[0;34m(\u001b[0m\u001b[0;34m\"Chevron Experiment\"\u001b[0m\u001b[0;34m)\u001b[0m\u001b[0;34m\u001b[0m\u001b[0;34m\u001b[0m\u001b[0m\n\u001b[0m\u001b[1;32m      2\u001b[0m \u001b[0mq0\u001b[0m\u001b[0;34m,\u001b[0m \u001b[0mq1\u001b[0m \u001b[0;34m=\u001b[0m \u001b[0;34m(\u001b[0m\u001b[0mQubitResource\u001b[0m\u001b[0;34m(\u001b[0m\u001b[0;34m\"q0\"\u001b[0m\u001b[0;34m)\u001b[0m\u001b[0;34m,\u001b[0m \u001b[0mQubitResource\u001b[0m\u001b[0;34m(\u001b[0m\u001b[0;34m\"q1\"\u001b[0m\u001b[0;34m)\u001b[0m\u001b[0;34m)\u001b[0m\u001b[0;34m\u001b[0m\u001b[0;34m\u001b[0m\u001b[0m\n\u001b[1;32m      3\u001b[0m \u001b[0;34m\u001b[0m\u001b[0m\n\u001b[1;32m      4\u001b[0m \u001b[0;32mfor\u001b[0m \u001b[0mamp\u001b[0m \u001b[0;32min\u001b[0m \u001b[0mnp\u001b[0m\u001b[0;34m.\u001b[0m\u001b[0mlinspace\u001b[0m\u001b[0;34m(\u001b[0m\u001b[0;36m0.2\u001b[0m\u001b[0;34m,\u001b[0m \u001b[0;36m0.8\u001b[0m\u001b[0;34m,\u001b[0m \u001b[0;36m3\u001b[0m\u001b[0;34m)\u001b[0m\u001b[0;34m:\u001b[0m\u001b[0;34m\u001b[0m\u001b[0;34m\u001b[0m\u001b[0m\n\u001b[1;32m      5\u001b[0m     \u001b[0;32mfor\u001b[0m \u001b[0mduration\u001b[0m \u001b[0;32min\u001b[0m \u001b[0mnp\u001b[0m\u001b[0;34m.\u001b[0m\u001b[0marange\u001b[0m\u001b[0;34m(\u001b[0m\u001b[0;36m20e-9\u001b[0m\u001b[0;34m,\u001b[0m \u001b[0;36m100e-9\u001b[0m\u001b[0;34m,\u001b[0m \u001b[0;36m20e-9\u001b[0m\u001b[0;34m)\u001b[0m\u001b[0;34m:\u001b[0m\u001b[0;34m\u001b[0m\u001b[0;34m\u001b[0m\u001b[0m\n",
      "\u001b[0;31mNameError\u001b[0m: name 'Schedule' is not defined"
     ]
    }
   ],
   "source": [
    "sched = Schedule(\"Chevron Experiment\")\n",
    "q0, q1 = (QubitResource(\"q0\"), QubitResource(\"q1\"))\n",
    "\n",
    "for amp in np.linspace(0.2, 0.8, 3):\n",
    "    for duration in np.arange(20e-9, 100e-9, 20e-9):\n",
    "        begin = sched.add(X(q0.name))\n",
    "        sched.add(X(q1.name), ref_op=begin, ref_pt='start')\n",
    "        square = sched.add(SquarePulse(amp=amp, duration=duration, ch='qcm1.s0'))\n",
    "        sched.add(X90(q1.name), ref_op=square)\n",
    "        sched.add(X90(q0.name), ref_op=square)\n",
    "        sched.add(Measure(q0.name, q1.name))"
   ]
  },
  {
   "cell_type": "code",
   "execution_count": 5,
   "metadata": {},
   "outputs": [
    {
     "ename": "NameError",
     "evalue": "name 'Pulsar_QCM_sequencer' is not defined",
     "output_type": "error",
     "traceback": [
      "\u001b[0;31m---------------------------------------------------------------------------\u001b[0m",
      "\u001b[0;31mNameError\u001b[0m                                 Traceback (most recent call last)",
      "\u001b[0;32m<ipython-input-5-1a6f63db96bf>\u001b[0m in \u001b[0;36m<module>\u001b[0;34m\u001b[0m\n\u001b[0;32m----> 1\u001b[0;31m \u001b[0mqcm0_s0\u001b[0m \u001b[0;34m=\u001b[0m \u001b[0mPulsar_QCM_sequencer\u001b[0m\u001b[0;34m(\u001b[0m\u001b[0;34m'qcm0.s0'\u001b[0m\u001b[0;34m,\u001b[0m \u001b[0minstrument_name\u001b[0m\u001b[0;34m=\u001b[0m\u001b[0;34m'qcm0'\u001b[0m\u001b[0;34m,\u001b[0m \u001b[0mseq_idx\u001b[0m\u001b[0;34m=\u001b[0m\u001b[0;36m0\u001b[0m\u001b[0;34m)\u001b[0m\u001b[0;34m\u001b[0m\u001b[0;34m\u001b[0m\u001b[0m\n\u001b[0m\u001b[1;32m      2\u001b[0m \u001b[0mqcm1_s0\u001b[0m \u001b[0;34m=\u001b[0m \u001b[0mPulsar_QCM_sequencer\u001b[0m\u001b[0;34m(\u001b[0m\u001b[0;34m'qcm1.s0'\u001b[0m\u001b[0;34m,\u001b[0m \u001b[0minstrument_name\u001b[0m\u001b[0;34m=\u001b[0m\u001b[0;34m'qcm1'\u001b[0m\u001b[0;34m,\u001b[0m \u001b[0mseq_idx\u001b[0m\u001b[0;34m=\u001b[0m\u001b[0;36m0\u001b[0m\u001b[0;34m)\u001b[0m\u001b[0;34m\u001b[0m\u001b[0;34m\u001b[0m\u001b[0m\n\u001b[1;32m      3\u001b[0m \u001b[0mqrm0_s0\u001b[0m \u001b[0;34m=\u001b[0m \u001b[0mPulsar_QRM_sequencer\u001b[0m\u001b[0;34m(\u001b[0m\u001b[0;34m'qrm0.s0'\u001b[0m\u001b[0;34m,\u001b[0m \u001b[0minstrument_name\u001b[0m\u001b[0;34m=\u001b[0m\u001b[0;34m'qrm0'\u001b[0m\u001b[0;34m,\u001b[0m \u001b[0mseq_idx\u001b[0m\u001b[0;34m=\u001b[0m\u001b[0;36m0\u001b[0m\u001b[0;34m)\u001b[0m\u001b[0;34m\u001b[0m\u001b[0;34m\u001b[0m\u001b[0m\n\u001b[1;32m      4\u001b[0m \u001b[0mqrm0_s1\u001b[0m \u001b[0;34m=\u001b[0m \u001b[0mPulsar_QRM_sequencer\u001b[0m\u001b[0;34m(\u001b[0m\u001b[0;34m'qrm0.s1'\u001b[0m\u001b[0;34m,\u001b[0m \u001b[0minstrument_name\u001b[0m\u001b[0;34m=\u001b[0m\u001b[0;34m'qrm0'\u001b[0m\u001b[0;34m,\u001b[0m \u001b[0mseq_idx\u001b[0m\u001b[0;34m=\u001b[0m\u001b[0;36m1\u001b[0m\u001b[0;34m)\u001b[0m\u001b[0;34m\u001b[0m\u001b[0;34m\u001b[0m\u001b[0m\n\u001b[1;32m      5\u001b[0m \u001b[0;34m\u001b[0m\u001b[0m\n",
      "\u001b[0;31mNameError\u001b[0m: name 'Pulsar_QCM_sequencer' is not defined"
     ]
    }
   ],
   "source": [
    "qcm0_s0 = Pulsar_QCM_sequencer('qcm0.s0', instrument_name='qcm0', seq_idx=0)\n",
    "qcm1_s0 = Pulsar_QCM_sequencer('qcm1.s0', instrument_name='qcm1', seq_idx=0)\n",
    "qrm0_s0 = Pulsar_QRM_sequencer('qrm0.s0', instrument_name='qrm0', seq_idx=0)\n",
    "qrm0_s1 = Pulsar_QRM_sequencer('qrm0.s1', instrument_name='qrm0', seq_idx=1)\n",
    "\n",
    "sched.add_resources([q0, q1, qcm0_s0, qrm0_s0, qcm1_s0, qrm0_s1])"
   ]
  },
  {
   "cell_type": "code",
   "execution_count": 6,
   "metadata": {},
   "outputs": [
    {
     "ename": "ModuleNotFoundError",
     "evalue": "No module named 'quantify.sequencer'",
     "output_type": "error",
     "traceback": [
      "\u001b[0;31m---------------------------------------------------------------------------\u001b[0m",
      "\u001b[0;31mModuleNotFoundError\u001b[0m                       Traceback (most recent call last)",
      "\u001b[0;32m<ipython-input-6-6ecfbb995626>\u001b[0m in \u001b[0;36m<module>\u001b[0;34m\u001b[0m\n\u001b[0;32m----> 1\u001b[0;31m \u001b[0;32mfrom\u001b[0m \u001b[0mquantify\u001b[0m\u001b[0;34m.\u001b[0m\u001b[0msequencer\u001b[0m\u001b[0;34m.\u001b[0m\u001b[0mcompilation\u001b[0m \u001b[0;32mimport\u001b[0m \u001b[0mqcompile\u001b[0m\u001b[0;34m\u001b[0m\u001b[0;34m\u001b[0m\u001b[0m\n\u001b[0m\u001b[1;32m      2\u001b[0m \u001b[0;34m\u001b[0m\u001b[0m\n\u001b[1;32m      3\u001b[0m \u001b[0msched\u001b[0m\u001b[0;34m,\u001b[0m \u001b[0mcfg\u001b[0m \u001b[0;34m=\u001b[0m \u001b[0mqcompile\u001b[0m\u001b[0;34m(\u001b[0m\u001b[0msched\u001b[0m\u001b[0;34m,\u001b[0m \u001b[0mDEVICE_CFG\u001b[0m\u001b[0;34m,\u001b[0m \u001b[0mbackend\u001b[0m\u001b[0;34m=\u001b[0m\u001b[0mpulsar_assembler_backend\u001b[0m\u001b[0;34m)\u001b[0m\u001b[0;34m\u001b[0m\u001b[0;34m\u001b[0m\u001b[0m\n",
      "\u001b[0;31mModuleNotFoundError\u001b[0m: No module named 'quantify.sequencer'"
     ]
    }
   ],
   "source": [
    "from quantify.sequencer.compilation import qcompile\n",
    "\n",
    "sched, cfg = qcompile(sched, DEVICE_CFG, backend=pulsar_assembler_backend)"
   ]
  },
  {
   "cell_type": "code",
   "execution_count": 7,
   "metadata": {},
   "outputs": [
    {
     "ename": "NameError",
     "evalue": "name 'sched' is not defined",
     "output_type": "error",
     "traceback": [
      "\u001b[0;31m---------------------------------------------------------------------------\u001b[0m",
      "\u001b[0;31mNameError\u001b[0m                                 Traceback (most recent call last)",
      "\u001b[0;32m<ipython-input-7-01ec3fe65824>\u001b[0m in \u001b[0;36m<module>\u001b[0;34m\u001b[0m\n\u001b[0;32m----> 1\u001b[0;31m \u001b[0msched\u001b[0m\u001b[0;34m\u001b[0m\u001b[0;34m\u001b[0m\u001b[0m\n\u001b[0m",
      "\u001b[0;31mNameError\u001b[0m: name 'sched' is not defined"
     ]
    }
   ],
   "source": [
    "sched"
   ]
  },
  {
   "cell_type": "code",
   "execution_count": 8,
   "metadata": {},
   "outputs": [
    {
     "ename": "NameError",
     "evalue": "name 'cfg' is not defined",
     "output_type": "error",
     "traceback": [
      "\u001b[0;31m---------------------------------------------------------------------------\u001b[0m",
      "\u001b[0;31mNameError\u001b[0m                                 Traceback (most recent call last)",
      "\u001b[0;32m<ipython-input-8-0a76b5d8c2a4>\u001b[0m in \u001b[0;36m<module>\u001b[0;34m\u001b[0m\n\u001b[0;32m----> 1\u001b[0;31m \u001b[0mcfg\u001b[0m\u001b[0;34m\u001b[0m\u001b[0;34m\u001b[0m\u001b[0m\n\u001b[0m",
      "\u001b[0;31mNameError\u001b[0m: name 'cfg' is not defined"
     ]
    }
   ],
   "source": [
    "cfg"
   ]
  },
  {
   "cell_type": "code",
   "execution_count": 9,
   "metadata": {},
   "outputs": [
    {
     "ename": "ModuleNotFoundError",
     "evalue": "No module named 'quantify.sequencer'",
     "output_type": "error",
     "traceback": [
      "\u001b[0;31m---------------------------------------------------------------------------\u001b[0m",
      "\u001b[0;31mModuleNotFoundError\u001b[0m                       Traceback (most recent call last)",
      "\u001b[0;32m<ipython-input-9-a9cca175af0d>\u001b[0m in \u001b[0;36m<module>\u001b[0;34m\u001b[0m\n\u001b[0;32m----> 1\u001b[0;31m \u001b[0;32mfrom\u001b[0m \u001b[0mquantify\u001b[0m\u001b[0;34m.\u001b[0m\u001b[0msequencer\u001b[0m\u001b[0;34m.\u001b[0m\u001b[0mbackends\u001b[0m\u001b[0;34m.\u001b[0m\u001b[0mvisualization\u001b[0m \u001b[0;32mimport\u001b[0m \u001b[0mpulse_diagram_plotly\u001b[0m\u001b[0;34m\u001b[0m\u001b[0;34m\u001b[0m\u001b[0m\n\u001b[0m\u001b[1;32m      2\u001b[0m \u001b[0;34m\u001b[0m\u001b[0m\n\u001b[1;32m      3\u001b[0m \u001b[0mpulse_diagram_plotly\u001b[0m\u001b[0;34m(\u001b[0m\u001b[0msched\u001b[0m\u001b[0;34m,\u001b[0m \u001b[0mch_list\u001b[0m\u001b[0;34m=\u001b[0m\u001b[0;34m[\u001b[0m\u001b[0;34m'qcm0.s0'\u001b[0m\u001b[0;34m,\u001b[0m \u001b[0;34m'qcm1.s0'\u001b[0m\u001b[0;34m,\u001b[0m \u001b[0;34m'qrm0.s0'\u001b[0m\u001b[0;34m]\u001b[0m\u001b[0;34m)\u001b[0m\u001b[0;34m\u001b[0m\u001b[0;34m\u001b[0m\u001b[0m\n",
      "\u001b[0;31mModuleNotFoundError\u001b[0m: No module named 'quantify.sequencer'"
     ]
    }
   ],
   "source": [
    "from quantify.sequencer.backends.visualization import pulse_diagram_plotly\n",
    "\n",
    "pulse_diagram_plotly(sched, ch_list=['qcm0.s0', 'qcm1.s0', 'qrm0.s0'])"
   ]
  },
  {
   "cell_type": "code",
   "execution_count": 10,
   "metadata": {},
   "outputs": [
    {
     "ename": "NameError",
     "evalue": "name 'cfg' is not defined",
     "output_type": "error",
     "traceback": [
      "\u001b[0;31m---------------------------------------------------------------------------\u001b[0m",
      "\u001b[0;31mNameError\u001b[0m                                 Traceback (most recent call last)",
      "\u001b[0;32m<ipython-input-10-b5bc08f08aa4>\u001b[0m in \u001b[0;36m<module>\u001b[0;34m\u001b[0m\n\u001b[0;32m----> 1\u001b[0;31m \u001b[0;32mwith\u001b[0m \u001b[0mopen\u001b[0m\u001b[0;34m(\u001b[0m\u001b[0mcfg\u001b[0m\u001b[0;34m[\u001b[0m\u001b[0;34m'qcm0.s0'\u001b[0m\u001b[0;34m]\u001b[0m\u001b[0;34m,\u001b[0m \u001b[0;34m'r'\u001b[0m\u001b[0;34m)\u001b[0m \u001b[0;32mas\u001b[0m \u001b[0mf\u001b[0m\u001b[0;34m:\u001b[0m\u001b[0;34m\u001b[0m\u001b[0;34m\u001b[0m\u001b[0m\n\u001b[0m\u001b[1;32m      2\u001b[0m     \u001b[0mprogram\u001b[0m \u001b[0;34m=\u001b[0m \u001b[0mjson\u001b[0m\u001b[0;34m.\u001b[0m\u001b[0mload\u001b[0m\u001b[0;34m(\u001b[0m\u001b[0mf\u001b[0m\u001b[0;34m)\u001b[0m\u001b[0;34m\u001b[0m\u001b[0;34m\u001b[0m\u001b[0m\n\u001b[1;32m      3\u001b[0m \u001b[0mpprint\u001b[0m\u001b[0;34m(\u001b[0m\u001b[0mprogram\u001b[0m\u001b[0;34m[\u001b[0m\u001b[0;34m'program'\u001b[0m\u001b[0;34m]\u001b[0m\u001b[0;34m)\u001b[0m\u001b[0;34m\u001b[0m\u001b[0;34m\u001b[0m\u001b[0m\n",
      "\u001b[0;31mNameError\u001b[0m: name 'cfg' is not defined"
     ]
    }
   ],
   "source": [
    "with open(cfg['qcm0.s0'], 'r') as f:\n",
    "    program = json.load(f)\n",
    "pprint(program['program'])"
   ]
  },
  {
   "cell_type": "code",
   "execution_count": 11,
   "metadata": {},
   "outputs": [
    {
     "ename": "NameError",
     "evalue": "name 'program' is not defined",
     "output_type": "error",
     "traceback": [
      "\u001b[0;31m---------------------------------------------------------------------------\u001b[0m",
      "\u001b[0;31mNameError\u001b[0m                                 Traceback (most recent call last)",
      "\u001b[0;32m<ipython-input-11-64ed06b2ecbc>\u001b[0m in \u001b[0;36m<module>\u001b[0;34m\u001b[0m\n\u001b[0;32m----> 1\u001b[0;31m \u001b[0mpprint\u001b[0m\u001b[0;34m(\u001b[0m\u001b[0mprogram\u001b[0m\u001b[0;34m[\u001b[0m\u001b[0;34m'waveforms'\u001b[0m\u001b[0;34m]\u001b[0m\u001b[0;34m[\u001b[0m\u001b[0;34m'awg'\u001b[0m\u001b[0;34m]\u001b[0m\u001b[0;34m)\u001b[0m\u001b[0;34m\u001b[0m\u001b[0;34m\u001b[0m\u001b[0m\n\u001b[0m",
      "\u001b[0;31mNameError\u001b[0m: name 'program' is not defined"
     ]
    }
   ],
   "source": [
    "pprint(program['waveforms']['awg'])"
   ]
  },
  {
   "cell_type": "markdown",
   "metadata": {},
   "source": [
    "\n",
    "\n",
    "\n",
    "Gates compiled into pulses\n",
    "\n",
    "Pulses ordered by timing constraints\n",
    "\n",
    "Pulses associated to resource\n",
    "\n",
    "Resources joined to create a channel\n",
    "\n",
    "QASM generated for each channel\n",
    "\n",
    "\n"
   ]
  },
  {
   "cell_type": "code",
   "execution_count": null,
   "metadata": {},
   "outputs": [],
   "source": []
  },
  {
   "cell_type": "code",
   "execution_count": null,
   "metadata": {},
   "outputs": [],
   "source": []
  },
  {
   "cell_type": "code",
   "execution_count": null,
   "metadata": {},
   "outputs": [],
   "source": []
  }
 ],
 "metadata": {
  "kernelspec": {
   "display_name": "Python 3",
   "language": "python",
   "name": "python3"
  },
  "language_info": {
   "codemirror_mode": {
    "name": "ipython",
    "version": 3
   },
   "file_extension": ".py",
   "mimetype": "text/x-python",
   "name": "python",
   "nbconvert_exporter": "python",
   "pygments_lexer": "ipython3",
   "version": "3.8.5"
  }
 },
 "nbformat": 4,
 "nbformat_minor": 4
}
