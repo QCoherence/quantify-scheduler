{
 "cells": [
  {
   "cell_type": "code",
   "execution_count": null,
   "metadata": {},
   "outputs": [],
   "source": [
    "from pulsar_qcm.pulsar_qcm import pulsar_qcm\n",
    "qcm = pulsar_qcm(\"qcm0\", \"192.168.0.3\", debug=1)\n",
    "qcm.get_idn()"
   ]
  },
  {
   "cell_type": "code",
   "execution_count": null,
   "metadata": {},
   "outputs": [],
   "source": [
    "qcm.stop_sequencer()"
   ]
  },
  {
   "cell_type": "code",
   "execution_count": null,
   "metadata": {},
   "outputs": [],
   "source": [
    "from quantify.scheduler.types import Schedule, Operation\n",
    "from quantify.scheduler.gate_library import Rxy\n",
    "from quantify.scheduler.pulse_library import SquarePulse\n",
    "from quantify.scheduler.backends.pulsar_backend import pulsar_assembler_backend, configure_pulsar_sequencers\n",
    "from quantify.scheduler.compilation import qcompile\n",
    "from quantify.scheduler.backends.pulsar_backend import PulsarModulations\n",
    "from quantify.scheduler.resources import QubitResource, CompositeResource, Pulsar_QCM_sequencer, Pulsar_QRM_sequencer"
   ]
  },
  {
   "cell_type": "code",
   "execution_count": null,
   "metadata": {},
   "outputs": [],
   "source": [
    "DEVICE_TEST_CFG = {\n",
    "    \"qubits\":\n",
    "    {\n",
    "        \"q1\": {\"mw_amp180\": 0.9, \"mw_motzoi\": 0.25, \"mw_duration\": 20e-9,\n",
    "               \"mw_modulation_freq\": 200e6, \"mw_ef_amp180\": 0.87, \"mw_ch\": \"qcm0.s0\",\n",
    "               \"ro_ch\": \"qrm0.s0\", \"ro_pulse_amp\": 0.5, \"ro_pulse_modulation_freq\": 0,\n",
    "               \"ro_pulse_type\": \"square\", \"ro_pulse_duration\": 150e-9,\n",
    "               \"ro_acq_delay\": 120e-9, \"ro_acq_integration_time\": 2500e-9,\n",
    "               \"ro_acq_weigth_type\": \"SSB\",\n",
    "               \"init_duration\": 250e-6\n",
    "               }\n",
    "    },\n",
    "    \"edges\": {}\n",
    "}"
   ]
  },
  {
   "cell_type": "code",
   "execution_count": null,
   "metadata": {},
   "outputs": [],
   "source": [
    "qcm.stop_sequencer()"
   ]
  },
  {
   "cell_type": "code",
   "execution_count": null,
   "metadata": {},
   "outputs": [],
   "source": [
    "import numpy as np\n",
    "\n",
    "sched = Schedule('pulsar_params')\n",
    "q0 = QubitResource('q1')\n",
    "\n",
    "#sched.add(Rxy(180, 0, q0.name))\n",
    "sched.add(SquarePulse(duration=40e-9, amp=0.6, ch='qcm0.s0'))\n",
    "\n",
    "qcm0_s0 = Pulsar_QCM_sequencer('qcm0.s0', instrument_name='qcm0', seq_idx=0)\n",
    "sched.add_resources([q0, qcm0_s0])\n",
    "\n",
    "cfgs = qcompile(sched, DEVICE_TEST_CFG, backend=pulsar_assembler_backend, configure_hardware=True, debug=True)"
   ]
  },
  {
   "cell_type": "code",
   "execution_count": null,
   "metadata": {},
   "outputs": [],
   "source": [
    "qcm.arm_sequencer()\n",
    "qcm.start_sequencer()"
   ]
  },
  {
   "cell_type": "code",
   "execution_count": null,
   "metadata": {},
   "outputs": [],
   "source": [
    "qcm.get_assembler_log()"
   ]
  },
  {
   "cell_type": "code",
   "execution_count": null,
   "metadata": {},
   "outputs": [],
   "source": [
    "qcm.get_sequencer_state(0)"
   ]
  },
  {
   "cell_type": "code",
   "execution_count": null,
   "metadata": {},
   "outputs": [],
   "source": [
    "from quantify.sequencer.backends.pulsar_backend import configure_pulsar_sequencers\n",
    "qcm.reference_source(False)\n",
    "qcm.stop_sequencer()\n",
    "configure_pulsar_sequencers(cfgs)\n",
    "qcm.arm_sequencer()\n",
    "qcm.start_sequencer()"
   ]
  },
  {
   "cell_type": "code",
   "execution_count": null,
   "metadata": {},
   "outputs": [],
   "source": []
  }
 ],
 "metadata": {
  "kernelspec": {
   "display_name": "Python 3",
   "language": "python",
   "name": "python3"
  },
  "language_info": {
   "codemirror_mode": {
    "name": "ipython",
    "version": 3
   },
   "file_extension": ".py",
   "mimetype": "text/x-python",
   "name": "python",
   "nbconvert_exporter": "python",
   "pygments_lexer": "ipython3",
   "version": "3.8.0"
  }
 },
 "nbformat": 4,
 "nbformat_minor": 4
}
